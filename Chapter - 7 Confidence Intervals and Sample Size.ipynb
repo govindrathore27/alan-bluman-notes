{
 "cells": [
  {
   "cell_type": "markdown",
   "metadata": {},
   "source": [
    "# Estimation :\n",
    "Process of estimating the values of the parameters using imformation obtained from the samples.\\\n",
    "**Assumptions:**\n",
    "1. The samples must be randomly selected.\n",
    "2. Sample size must be grater than 30 or the population must be normally distributed if sample size is less than 30.\n",
    "\n",
    "**Types of estimates :**\n",
    "- ## Point Estimates: \n",
    "It is a specific numerical value estimate of a parameter. The best point estimate for the mean is the sample mean.\n",
    "### Good Estimator(MVU estimator):\n",
    "    - **Unbiased** : Expected value of the estimates must be equal to the parameter being estimated.This simply means that the expected value which is theoretical average (hence includes value from all random samples ) must equal to the parameter.\n",
    "        - **Consistent** : As sample size increases , value of the estimator must approach the value of the parameter.\n",
    "        - **Smallest Variance** : Basically the estimator should have the minimum variance compared to other estimators, so that the value does not vary much from the parameter in each random sample.\n",
    "        \n",
    "- ## Interval Estimate:\n",
    "It is an interval or a range of values used to estimate the parameter. This estimate may or may not contain the value of the parameter being estimated.\n",
    "    - **Confidence Level**:It is the probability that the true parameter(population mean) lies in the interval when the sample size is sufficiently large and randomly selected.\n",
    "    - **Confidence Interval**: It is a specific interval estimate of a parameter determined by using data obtained from a sample and by using the specific confidence level of the estimate.\n",
    "    $$ \\bar{X} - z_{\\frac\\alpha2}.\\frac\\sigma{\\sqrt(n)} < \\mu < \\bar{X} + z_{\\frac\\alpha2}.\\frac\\sigma{\\sqrt(n)} $$\n",
    "        Note: Relationship of a and the confidence level is that the stated confidence level is the percentage equivalent to the decimal value of 1 - a.\n",
    "    - **Margin Of Error:** Also called the maximum error of the estimate is the maximum likely difference between the point estimate of a parameter and the actual value of the parameter.\n",
    "    $$z_{\\frac\\alpha2}.\\frac\\sigma{\\sqrt(n)}$$"
   ]
  },
  {
   "cell_type": "markdown",
   "metadata": {},
   "source": [
    "## Sample Size:\n",
    "In this section we will learn about how to decide the size of sample suffiecient enough to accurately calculate the estimates.\n",
    "It depends on :\n",
    "Margin of error,Population standard deviation and degree of confidence.\n",
    "$$ n = (\\frac{z_{\\frac\\alpha2}*\\sigma}E)^2$$\n"
   ]
  },
  {
   "cell_type": "markdown",
   "metadata": {},
   "source": [
    "## Confidence interval when sigma(standard deviation) is unknown:\n",
    "- In this case we use **student t distribution** rather than z(obtained from normal distrbution) and also use sample standard deviation(s).\n",
    "- ## Student t distribution:\n",
    "    - Similar to normal distribution ,i.e., bell-shaped , symmteric about mean , curve never touches x axis.\n",
    "    - However the variance is greater than 1.\n",
    "    - It is also family of distributions based on concept of degree of freedom .\n",
    "    - As sample size increases the distribution becomes more and more to normal distribution.\n",
    "     $$ \\bar{X} - t_{\\frac\\alpha2}.\\frac s{\\sqrt(n)} < \\mu < \\bar{X} + t_{\\frac\\alpha2}.\\frac s{\\sqrt(n)} $$\n",
    "     **Degree of freedom** = n - 1."
   ]
  },
  {
   "cell_type": "markdown",
   "metadata": {},
   "source": [
    "## Confidence interval and sample size for Proportions:\n",
    "$$ \\hat{p} = \\frac Xn$$\n",
    "$$\\hat{q} = 1 - \\hat{p}$$\n",
    "#### Confidence Interval:\n",
    "$$ \\hat{p} - z_{\\frac\\alpha2}.\\sqrt{\\frac{\\hat{p}*\\hat{q}}n} < \\mu < \\hat{p} + z_{\\frac\\alpha2}.\\sqrt{\\frac{\\hat{p}*\\hat{q}}n} $$\n",
    "#### Sample size:\n",
    "$$ n = \\hat{p}\\hat{q}(\\frac{z_{\\frac\\alpha2}}E)^2 $$\n"
   ]
  },
  {
   "cell_type": "markdown",
   "metadata": {},
   "source": [
    "## Confidence Interval for variances and standard deviation:\n",
    "We use Chi-square distribution to calculate the intervals.\n",
    "- **Chi-squared Distribution**: It is also family of distributions, which are skewed to right and cannot be negative.\n",
    "    **Formula for Confidence Intervals:**\n",
    "    $$\\frac{(n - 1)s^2}{\\chi_{right}^2} < \\sigma^2 < \\frac{(n - 1)s^2}{\\chi_{left}^2}$$\n",
    "    $$df = n - 1$$"
   ]
  },
  {
   "cell_type": "code",
   "execution_count": null,
   "metadata": {},
   "outputs": [],
   "source": []
  }
 ],
 "metadata": {
  "kernelspec": {
   "display_name": "Python 3",
   "language": "python",
   "name": "python3"
  },
  "language_info": {
   "codemirror_mode": {
    "name": "ipython",
    "version": 3
   },
   "file_extension": ".py",
   "mimetype": "text/x-python",
   "name": "python",
   "nbconvert_exporter": "python",
   "pygments_lexer": "ipython3",
   "version": "3.8.5"
  }
 },
 "nbformat": 4,
 "nbformat_minor": 4
}
