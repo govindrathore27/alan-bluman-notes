{
 "cells": [
  {
   "cell_type": "markdown",
   "metadata": {},
   "source": [
    "## Probability:\n",
    "**It is the chance of an event ocurring.**\n",
    "Types of Probabilties:\n",
    "1. ### Classical Probability:\n",
    "    - It is the theoretical type, i.e., we don't perform any experiments in calculating this type of probability.\n",
    "    - In this we assume all the **events are equally likely to occur** , and hence calculate a specific probability which in theory is always right for a fair probability experiment.\n",
    "2. ### Emperical Probability:\n",
    "    - It is the probability we calculate by performing experiments.\n",
    "    - It sometimes varies from the classical probability because the number of trials is very less and there are chances of not getting perfect probability.\n",
    "    - We can get it to be equal to the classical probability using the **Law Of Large Numbers**,i.e., basically increasing the number of the trails.\n",
    "3. ### Subjective Probability:\n",
    "     - It is the probability value based on educated guess , employing someone's opionion or inexact information."
   ]
  },
  {
   "cell_type": "markdown",
   "metadata": {},
   "source": [
    "## Addition Rule Of Probability:\n",
    "When we need to calculate probablity of two events(mutually exclusive or not) we use addition rule.\n",
    "- For mutually exclusive, \n",
    "    $$P(A\\cup B) = P(A) + P(B)$$\n",
    "- For not mutually exclusive,\n",
    "    $$ P(A \\cup B) = P(A) + P(B) - P(A \\cap B)$$\n",
    "    \n",
    "    "
   ]
  },
  {
   "cell_type": "markdown",
   "metadata": {},
   "source": [
    "## Multiplication Rule:\n",
    "When we are supposed to calculate probability of two or more events occuring in the sequence.It can be independent or not.\n",
    "- For independent events,\n",
    "    $$P(A \\cap B) = P(A).P(B)$$\n",
    "- For dependent events,\n",
    "    $$ P(A \\cap B) = P(A).P(B|A)$$\n",
    "### Conditional Probability:\n",
    "The probability that the second event B occurs given that the first event A has occurred can be found by dividing the probability that both events occurred by the probability that the first event has occurred. The formula is:\n",
    " $$P(B|A)=  P(A \\cap B) /P(A)$$"
   ]
  },
  {
   "cell_type": "markdown",
   "metadata": {},
   "source": [
    "## Counting Rule:\n",
    "Used to count the number of all possible outcomes for a sequence of events.\n",
    "1. ### Fundamental Rule of Counting:\n",
    "In a sequence of n events in which the first one has k1 possibilities and the second event has k2\n",
    "and the third has k3, and so forth, the total number of possibilities of the sequence will be\n",
    "$$k1.k2.k3...kn$$\n",
    "2. ### Permutation:\n",
    "To arrange n objects in a specific orderusing r objects at a time.\n",
    "    $$ _nP_r = n ! / (n-r)!$$\n",
    "3. ### Combination : \n",
    "Selecting r objects from n objects without any care for arrangement.\n",
    "$$ _nC_r = n! / (r! * (n-r)! $$ \n",
    "$$ _nC_r = _nP_r / r!$$"
   ]
  },
  {
   "cell_type": "markdown",
   "metadata": {},
   "source": [
    "Note all the technical terms used in the notes:\n",
    "- **Probability Experiment** :It is a chance process that leads to well-defined results called outcomes.\n",
    "- **Outcomes** : Result of the single trail of probability experiment.\n",
    "- **Sample Space** : It is the set of all possible outcomes of a probability experiment.\n",
    "- **Event** : It consists of a set of outcomes of a probability experiment.\n",
    "- **Equally likely events**: Are the events that have the same probability of occurring.\n",
    "- **Complement of an event E**:It is the set of outcomes in the sample space that are not included in the outcomes of event E.\n",
    "- Two events are **mutually exclusive events** if they cannot occur at the same time (i.e., they have no outcomes in common).\n",
    "- Two events A and B are **independent events** if the fact that A occurs does not affect the probability of B occurring."
   ]
  },
  {
   "cell_type": "code",
   "execution_count": null,
   "metadata": {},
   "outputs": [],
   "source": []
  }
 ],
 "metadata": {
  "kernelspec": {
   "display_name": "Python 3",
   "language": "python",
   "name": "python3"
  },
  "language_info": {
   "codemirror_mode": {
    "name": "ipython",
    "version": 3
   },
   "file_extension": ".py",
   "mimetype": "text/x-python",
   "name": "python",
   "nbconvert_exporter": "python",
   "pygments_lexer": "ipython3",
   "version": "3.8.5"
  }
 },
 "nbformat": 4,
 "nbformat_minor": 4
}
