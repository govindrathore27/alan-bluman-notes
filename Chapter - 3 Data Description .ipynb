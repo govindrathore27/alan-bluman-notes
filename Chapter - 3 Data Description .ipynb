{
 "cells": [
  {
   "cell_type": "markdown",
   "metadata": {},
   "source": [
    "Various measures use to describe data are :\n",
    "-  Measures of Central Tendecy(mean,median,mode ,midrange)\n",
    "-  Measures of Variation (range,variance , standard devaition)\n",
    "-  Measures of postion (standard scores,percentile , quartile ,decile)"
   ]
  },
  {
   "cell_type": "markdown",
   "metadata": {},
   "source": [
    "## Measures Of Central Tendency :\n",
    "It simply means to define the core tendencies of the data i.e., what is the number most occuring , what is the number present in the center of the data,etc. The major measures are :\n",
    "1.  Mean(Arithmatic) :\n",
    "Simply the arithematic mean of the data i.e., sum of all numbers divided by the number of data points. \n",
    "    **Population mean :**$$\\sum X /N $$\n",
    "    **Sample Mean :**$$ \\sum X / n$$\n",
    "\n",
    "2. Median:\n",
    "It is obtained by arranging the data in ascending order and the number in the middle is the median if there are two numbers in middle take there mean as the median.\n",
    "3.  Mode : \n",
    "It is simply the data point which is occuring the most.\n",
    "4. Midrange:\n",
    " It is the average of highest and lowest number.\n",
    " "
   ]
  },
  {
   "cell_type": "markdown",
   "metadata": {},
   "source": [
    "## Measures of Variation:\n",
    "It simply tell us about how the data is spread throughout the ditrbution ,i.e., it tells us whether the data is skewed , symetric , asymmetric.The major measures are :\n",
    "1.  Range:\n",
    "It is the differnece between the lowest and highest data point.\n",
    "2. Variance :\n",
    "It is one of the most significant statistics.It tells about the spread of the data . It is calculated by averaging the sqaure of the diffrence of mean and all data points. \n",
    "    **Population Variance =** $$\\sum(X-\\mu)^2 / N$$\n",
    "    **Sample Variance =** $$\\sum(X - \\vec X)^2/(n - 1)$$\n",
    "3. Standard Deviation :\n",
    "It is the square root of variance.\n",
    "Note: \n",
    "      **Chebhyshev Theorom** : The proportion of values from a data set that will fall within k\n",
    "standard deviations of the mean will be at least 1 - 1/k^2, where k is a number greater\n",
    "than 1 (k is not necessarily an integer)\n",
    "4. Coefficient of Variance :\n",
    "It is basically obtained by dividing standard deviation by mean , it is used to compare the spread two different variables.It is like comparing appples and oranges using stastistics.\n",
    "**CVar :** $$s/\\mu.100$$"
   ]
  },
  {
   "cell_type": "markdown",
   "metadata": {},
   "source": [
    "## Measure of Position:\n",
    "It basically signifies the relative position of a data point with respect to some central tendency.The major measures are :\n",
    "1. Standard(z-score):\n",
    "It is the distance of a data point from the mean(usually) in terms of standard deviation.It is calculated by subtracting the mean from the data point and dividing by the variance.\n",
    "    **z-score** = $$ (X - \\mu)/\\sigma$$\n",
    "2.  Percentiles:\n",
    "Percentiles divide the data set into 100 equal groups.For eg : if you have 80 percentile score in test it means that you have performed better thena 80 percent students.\n",
    "3. Quartiles :\n",
    "Similar to percentile , but in this measure it is divided into four groups,ie.,separated by Q1,Q2,Q3.\n",
    "4. Deciles : \n",
    "Into 10 groups are divided."
   ]
  },
  {
   "cell_type": "markdown",
   "metadata": {},
   "source": [
    "## Outliers:\n",
    "It is the data that is way too large or way too low in resoect of the other data.It highly affects the measures as a lot measure directly depend on all the data points. The most affected are mean and midrange.\\\n",
    "#### IQR(inter quartile range):\n",
    "It is the difference between Q1 and Q3 and is the range of middle 50% of the data.\n",
    "Ways to identify outliers:\n",
    "1. Find Q1,Q2,Q3\n",
    "2. FInd IQR = Q3 - Q1\n",
    "3. Multiply IQR by 1.5\n",
    "4. Subtract this number from Q1 and add this number to Q3\n",
    "5. If the point lie in the above acquired range then it is not an outlier, if doesn't then it is an outlier."
   ]
  },
  {
   "cell_type": "markdown",
   "metadata": {},
   "source": [
    "## EDA(Exploratory Data Analysis):\n",
    "EDA is the type of data analysis , which is used to gain insights from the data like outliers , etc.\n",
    "- **Central Tendency** : MEDIAN\n",
    "- **Measure of variation** : INTERQUARTILE RANGE\n"
   ]
  },
  {
   "cell_type": "code",
   "execution_count": null,
   "metadata": {},
   "outputs": [],
   "source": []
  }
 ],
 "metadata": {
  "kernelspec": {
   "display_name": "Python 3",
   "language": "python",
   "name": "python3"
  },
  "language_info": {
   "codemirror_mode": {
    "name": "ipython",
    "version": 3
   },
   "file_extension": ".py",
   "mimetype": "text/x-python",
   "name": "python",
   "nbconvert_exporter": "python",
   "pygments_lexer": "ipython3",
   "version": "3.8.5"
  }
 },
 "nbformat": 4,
 "nbformat_minor": 4
}
