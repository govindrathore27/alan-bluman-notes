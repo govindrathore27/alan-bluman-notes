{
 "cells": [
  {
   "cell_type": "markdown",
   "metadata": {},
   "source": [
    "# Statistic "
   ]
  },
  {
   "cell_type": "markdown",
   "metadata": {},
   "source": [
    "_What is statistics?_ \\\n",
    "It is doing everything related to data.It starts from collecting data to getting meaningful inference from data. \\\n",
    "__Statistics__ : It is basically collecting , orgainising , summarizing ,analyzing and drawing conclusions from data."
   ]
  },
  {
   "cell_type": "markdown",
   "metadata": {},
   "source": [
    "__Variable__ : We all know variable is basically a conatiner in which we can store various types of values and data. \\\n",
    "__Random Variable__ : In statistics and more specifically machine learning , we won't be dealing with normal variables but \\\n",
    "rather we'll be dealing with random variables , whose value is decided by chance. \n"
   ]
  },
  {
   "cell_type": "markdown",
   "metadata": {},
   "source": [
    "Types of statistics: \n",
    "- ### Descriptive Statistics : \n",
    "It is basically telling the story of data.In this type of statistics , collection ,  organization summarization ,and presentation of data is done. \n",
    "- ### Inferential Statistics:\n",
    "It consists of generalizing from samples to populations, performing estimations and hypothesis tests, determining relationships among variables, and making predictions.It basically means to get some meaning out of data."
   ]
  },
  {
   "cell_type": "markdown",
   "metadata": {},
   "source": [
    "Types  of variables :\n",
    "- ### Qualitative :\n",
    "It basically means data which can be put into distinct classes,according to various attributes.\n",
    "- ### Quantitative :\n",
    "It is numerical data which can be ordered or ranked.It is of two types:\n",
    "    - #### Discrete : \n",
    "            It is the data which can be counted.\n",
    "    - #### Continuous :\n",
    "            It is the data which can attain infinite values between two specific values.\n",
    "            \n",
    "Another way of classifying variables:\n",
    "- ### Independent :\n",
    "Variable which is not controlled or influenced by any other variable or factor.\n",
    "- ### Dependent :\n",
    "It is the variable which is dependent on the independent variable."
   ]
  },
  {
   "cell_type": "markdown",
   "metadata": {},
   "source": [
    "### Level Of Measurements:\n",
    "- #### Nominal level of measurements :\n",
    "It classifies the data into mutually exclusive categories with no ranking or order.\n",
    "- #### Ordinal Level of measurements: \n",
    "It classifies into categories that can be ranked however the precise diffrence does not exist.\n",
    "- #### Interval level of measurement:\n",
    " It classifies data into precise ranks but there is no true zero.\n",
    "- #### Ratio Level of measurement:\n",
    " It possesses all the characteristics of interval measurement, and there exists a true zero. In addition, true ratios exist when the same variable is measured on two different members of the population"
   ]
  },
  {
   "cell_type": "markdown",
   "metadata": {},
   "source": []
  }
 ],
 "metadata": {
  "kernelspec": {
   "display_name": "Python 3",
   "language": "python",
   "name": "python3"
  },
  "language_info": {
   "codemirror_mode": {
    "name": "ipython",
    "version": 3
   },
   "file_extension": ".py",
   "mimetype": "text/x-python",
   "name": "python",
   "nbconvert_exporter": "python",
   "pygments_lexer": "ipython3",
   "version": "3.8.5"
  }
 },
 "nbformat": 4,
 "nbformat_minor": 4
}
