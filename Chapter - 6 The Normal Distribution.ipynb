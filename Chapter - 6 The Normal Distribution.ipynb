{
 "cells": [
  {
   "cell_type": "markdown",
   "metadata": {},
   "source": [
    "# The Normal Distribution:\n",
    "**Definition** - It is continous, symmetric and bell-shaped distibution of variables. \n",
    "## Features:\n",
    "- It is bell-shaped , symmetric , unimodel , mean , mode and median all at the center of the distibution.\n",
    "- Sum of the are under the curve is 1.\n",
    "- In first standard deviation lies 68% data , in second 95%, and in third 99.7%.\n",
    "$$y = \\frac1{\\sqrt{2\\pi}}{exp}^\\frac{(x-\\mu)^2}{2(\\sigma)^2}$$\n"
   ]
  },
  {
   "cell_type": "markdown",
   "metadata": {},
   "source": [
    "## Standard normal :\n",
    "It is a normal distribution with mean = 0 and standard deviation = 1 \n",
    "## Normal Distribution as Probability Distribution Curve:\n",
    "- As it is continous distribution , so for every Z there exists a probability \n",
    "- Also the sum is also 1\n",
    "- To calculate the probability for a z value we will calculate the area under the curve uptil that z\n",
    "- P(X<=Z) calculate the area under the curve from left till z.\n",
    "- P(X>z) lookup the value of z and subtract the area by 1.\n",
    "- p(z1<X<z2) lookup both the z values and subtract these values."
   ]
  },
  {
   "cell_type": "markdown",
   "metadata": {},
   "source": [
    "## Aplications of Normal Distribution:\n",
    "1. **Finding the area under curve using z-value.**\n",
    "    - ### z-value :\n",
    "    It is the standard error or standard score , which tells us about the distance of a point from the mean in terms of standard deviation.\n",
    "    $$z = \\frac{X - \\mu}\\sigma $$\n",
    "2. **Finding data values for given specific probablities:**\n",
    "    - Modifying the formlua of z value to get the data value for specific probablities.\n",
    "    $$X = z.\\sigma \\pm \\mu $$\n",
    "\n",
    "3. **Determining Normality:**\n",
    "    - #### Pearson Coefficient of Skewness(PC):\n",
    "        $$PC = \\frac{3(\\vec X -  median)}s$$\n",
    "     If index is >= +1 or <=-1 then data is significantly skewed."
   ]
  },
  {
   "cell_type": "markdown",
   "metadata": {},
   "source": [
    "# Central Limit Theorem:\n",
    "As the sample size n increases without limit, the shape of the distribution of the sample means taken with replacement a population with mean m and standard deviation s will approach a normal distribution. As previously shown, this distribution will have a mean m and a standard deviation is population standard deviation divided by square root of n.\n",
    "## Sampling Distribution Of sample means:\n",
    "It is a distribution using the means computed from all possible random samples of a specific size taken from a population.\n",
    "\n",
    "## Sampling error: \n",
    "It is the difference between the sample measure and the corresponding population measure due to the fact that the sample is not a perfect representation of the population.\\\n",
    "Note :\\\n",
    "**The standard deviation of the sample means is called the standard error of the mean**\n",
    "$$\\sigma_X = \\frac\\sigma{\\sqrt(n)}  $$\n",
    "\n",
    "- #### If the sample size is sufficiently large, the central limit theorem can be used to answer questions about sample means in the same manner that a normal distribution can be used to answer questions about individual values. The only difference is that a new formula must be used for the z values. It is:\n",
    "$$z = \\frac{X_{mean} - \\mu}{\\frac\\sigma{\\sqrt(n)}}$$\n",
    "- #### When the original variable is normally distributed, the distribution of the sample means will be normally distributed, for any sample size n.\n",
    "- #### When the distribution of the original variable might not be normal, a sample size of 30 or more is needed to use a normal distribution to approximate the distribution of the sample means. The larger the sample, the better the approximation will be.\n"
   ]
  },
  {
   "cell_type": "markdown",
   "metadata": {},
   "source": [
    "### Finite Population Correction factor:\n",
    "If the sampling is done without replacement then we need use correction factor to incorporate the discrepancy introduced by the uneven sample size.\n",
    "$$ \\sigma_{X_{mean}}  = \\frac\\sigma{\\sqrt(n)}.\\frac{\\sqrt(N - n)}{\\sqrt(N - 1)} $$\n",
    "$$ z = \\frac{X_{mean} - \\mu}{\\frac\\sigma{\\sqrt(n)}.\\frac{\\sqrt(N - n)}{\\sqrt(N - 1)}}$$"
   ]
  },
  {
   "cell_type": "markdown",
   "metadata": {},
   "source": []
  }
 ],
 "metadata": {
  "kernelspec": {
   "display_name": "Python 3",
   "language": "python",
   "name": "python3"
  },
  "language_info": {
   "codemirror_mode": {
    "name": "ipython",
    "version": 3
   },
   "file_extension": ".py",
   "mimetype": "text/x-python",
   "name": "python",
   "nbconvert_exporter": "python",
   "pygments_lexer": "ipython3",
   "version": "3.8.5"
  }
 },
 "nbformat": 4,
 "nbformat_minor": 4
}
