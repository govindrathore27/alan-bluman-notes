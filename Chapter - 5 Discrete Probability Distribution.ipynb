{
 "cells": [
  {
   "cell_type": "markdown",
   "metadata": {},
   "source": [
    "## Probability Distributions:\n",
    "It is the collection of values a random variable can assume with their corresponding porbabilities.The probabilites used are theoretical or observed.\n",
    "### Two requirements for a distribution to qualify as a probability distribution:\n",
    "1. **The sum of all probabilities must be 1**.\n",
    "2. **The probabilities must be >= 0 and <=1**.\n"
   ]
  },
  {
   "cell_type": "markdown",
   "metadata": {},
   "source": [
    "## Mean,Variance ,Standard Deviation and Expectation:\n",
    "-  Mean: \n",
    "In the case of probablity distribution , if we want to calculate the mean we will need to have infinte number of trails to reach the theroretical mean , but that is impossible.So we will modify the formula so as to attain theoretical mean wihout infinite trails.\n",
    "    $$ \\mu =  \\sum X.P(x)$$\n",
    "- Variance:\n",
    "Similarly, we will modify the formula for Variance also,\n",
    "    $$\\sigma^2 = \\sum[(X - \\mu)^2].P(X) $$\n",
    "But calculating using this is much harder so we will simplify it ,\n",
    "    $$\\sigma^2 = \\sum[X^2.P(X)] - \\mu^2 $$\n",
    "- Standard Deviation:\n",
    "It will be the square root of the variance.\n",
    "\n",
    "- Expectation:\n",
    "**Definition** - The theoretical average of the random discrete variable of a probability distribution.\n",
    "It simply means what will be the expected value if we were to rsandomly pick a value out of the distribution we expect it to be the theoretical average ,i.e., **Expectation**\n",
    "Also in terms of Expectation,\n",
    "    $$\\mu = E[x]$$\n",
    "    $$\\sigma = E[X^2] - (E[X])^2$$"
   ]
  },
  {
   "cell_type": "markdown",
   "metadata": {},
   "source": [
    "# Various Discrete Probability Distribtutions:\n",
    "- Binmoial Distribution:\n",
    "The outcomes of a **binomial experiment** and the corresponding probabilities of these\n",
    "outcomes are called a binomial distribution.\\\n",
    "Binomial Experiment:\n",
    "    - Fixed Numbere of trials with only two outcomes success or failure.\n",
    "    - Outcome of each trail must be independent of each other.\n",
    "    - Probability of success must remain the same. \n",
    "$$\\mu=n.p$$\n",
    "$$\\sigma^2 =  n.p.q$$\n",
    "$$P(X) = _nC_X.p^X.q^(n - X)$$\n",
    "- Multinomial Distribution:\n",
    "Outcome can be more than 2.\n",
    "    $$ P(X) = (n!/(X1!.X2!.X3!...Xn!))*(p_1.p_2.p_3...p_n)$$\n",
    "- Possion Distribution:\n",
    "If n is very large and p is very small and independent variables occur over a period of time or over a volume or area,then \n",
    "**POSSION Distribution** is used.\n",
    "    $$P(X;\\lambda) = (e^-\\lambda.\\lambda^X )/ X!$$\n",
    "*Note* : The Poisson distribution can also be used to approximate the binomial distribution when the expected value l.n.p is less than 5.\n",
    "- HyperGeometric Distribution:\n",
    "When sampling is done without replacement, the binomial distribution does not give exact probabilities, since the trials are not independent.The **hypergeometric distribution** is a distribution of a variable that has two outcomes when sampling is done *without replacement*.\n",
    "$$P(X) = _aC_X._bC_(n-X"
   ]
  },
  {
   "cell_type": "code",
   "execution_count": null,
   "metadata": {},
   "outputs": [],
   "source": []
  },
  {
   "cell_type": "code",
   "execution_count": null,
   "metadata": {},
   "outputs": [],
   "source": []
  }
 ],
 "metadata": {
  "kernelspec": {
   "display_name": "Python 3",
   "language": "python",
   "name": "python3"
  },
  "language_info": {
   "codemirror_mode": {
    "name": "ipython",
    "version": 3
   },
   "file_extension": ".py",
   "mimetype": "text/x-python",
   "name": "python",
   "nbconvert_exporter": "python",
   "pygments_lexer": "ipython3",
   "version": "3.8.5"
  }
 },
 "nbformat": 4,
 "nbformat_minor": 4
}
